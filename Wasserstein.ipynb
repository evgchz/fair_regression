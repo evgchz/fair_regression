{
 "cells": [
  {
   "cell_type": "code",
   "execution_count": 215,
   "metadata": {},
   "outputs": [],
   "source": [
    "import numpy as np\n",
    "from sklearn.linear_model import LinearRegression\n",
    "import matplotlib.pyplot as plt"
   ]
  },
  {
   "cell_type": "code",
   "execution_count": 732,
   "metadata": {},
   "outputs": [],
   "source": [
    "class FairRegressionTransform():\n",
    "    def __init__(self, base_method, split=True, sigma=1e-6):\n",
    "        self.base_method = base_method\n",
    "        self.split = split\n",
    "        self.sigma = sigma\n",
    "    def fit(self, X_unlab, weights):\n",
    "        self.weights = weights\n",
    "        self.sensitives = np.unique(X_unlab[:, -1])\n",
    "        K = len(self.sensitives)\n",
    "        assert K != 1, 'Only one sensitive attribute provided'\n",
    "        assert len(self.weights) == K, 'There are {} sensitive features, but {} weights'.format(K, len(self.weights))\n",
    "        N, _ = X_unlab.shape\n",
    "        permutation = np.random.permutation(N)\n",
    "        if self.split:\n",
    "            tmp = int(N / 2)\n",
    "            X1 = X_unlab[permutation[:tmp]]\n",
    "            X2 = X_unlab[permutation[tmp:]]\n",
    "        else:\n",
    "            X1 = X_unlab\n",
    "            X2 = X_unlab\n",
    "        pred1 = self.base_method.predict(X1) + np.random.uniform(-self.sigma, self.sigma, tmp)\n",
    "        pred2 = self.base_method.predict(X2) + np.random.uniform(-self.sigma, self.sigma, N - tmp)\n",
    "        self.quantile = {}\n",
    "        self.cdf = {}\n",
    "        for s in self.sensitives:\n",
    "            self.quantile[s] = pred1[X1[:,-1] == s]\n",
    "            self.cdf[s] = pred2[X2[:,-1] == s]\n",
    "    def predict(self, X):\n",
    "        n_test, _ = X.shape\n",
    "        unfair = self.base_method.predict(X) + np.random.uniform(-self.sigma, self.sigma, n_test)\n",
    "        y_pred = np.zeros(n_test)\n",
    "        for ind, pred in enumerate(unfair):\n",
    "            q = np.sum(self.cdf[X[ind,-1]] <= pred) / len(self.cdf[X[ind,-1]])\n",
    "            for s in self.sensitives:\n",
    "                y_pred[ind] += self.weights[s] * np.quantile(self.quantile[s], q, interpolation='lower')\n",
    "        return y_pred"
   ]
  },
  {
   "cell_type": "code",
   "execution_count": 810,
   "metadata": {},
   "outputs": [],
   "source": [
    "N_train = 500\n",
    "thr = 0\n",
    "\n",
    "X_train = np.random.normal(0, 1, (N_train, 3))\n",
    "sens = np.zeros(N_train)\n",
    "sens[X_train[:, 0] < thr] = -1\n",
    "sens[X_train[:, 0] >= thr] = 1\n",
    "sens = sens[:, np.newaxis]\n",
    "X_train = np.append(X_train, sens, axis=1)\n",
    "y_train = np.dot(X_train, np.ones(4) * 3) + np.random.normal(0, 1, N_train)\n",
    "\n",
    "\n",
    "N_unlab = 1000\n",
    "X_unlab = np.random.normal(0, 1, (N_unlab, 3))\n",
    "sens = np.zeros(N_unlab)\n",
    "sens[X_unlab[:, 0] < thr] = -1\n",
    "sens[X_unlab[:, 0] >= thr] = 1\n",
    "sens = sens[:, np.newaxis]\n",
    "X_unlab = np.append(X_unlab, sens, axis=1)\n",
    "\n",
    "\n",
    "N_test = 1000\n",
    "X_test = np.random.normal(0, 1, (N_test, 3))\n",
    "sens = np.zeros(N_test)\n",
    "sens[X_test[:, 0] < thr] = -1\n",
    "sens[X_test[:, 0] >= thr] = 1\n",
    "sens = sens[:, np.newaxis]\n",
    "X_test = np.append(X_test, sens, axis=1)\n",
    "\n",
    "\n",
    "weights = {-1 : 0.5, 1 : 0.5}"
   ]
  },
  {
   "cell_type": "code",
   "execution_count": 811,
   "metadata": {},
   "outputs": [],
   "source": [
    "ls = LinearRegression(fit_intercept=False)\n",
    "ls.fit(X_train, y_train)\n",
    "fair_ls = FairRegressionTransform(ls, sigma=1e-8)\n",
    "fair_ls.fit(X_unlab, weights)"
   ]
  },
  {
   "cell_type": "code",
   "execution_count": 812,
   "metadata": {},
   "outputs": [
    {
     "data": {
      "text/plain": [
       "<matplotlib.legend.Legend at 0x7f819045f208>"
      ]
     },
     "execution_count": 812,
     "metadata": {},
     "output_type": "execute_result"
    },
    {
     "data": {
      "image/png": "[encoded data removed]",
      "text/plain": [
       "<Figure size 432x288 with 1 Axes>"
      ]
     },
     "metadata": {},
     "output_type": "display_data"
    }
   ],
   "source": [
    "y_pred = fair_ls.predict(X_unlab)\n",
    "y_pred0 = y_pred[X_unlab[:, -1] == -1]\n",
    "y_pred1 = y_pred[X_unlab[:, -1] == 1]\n",
    "\n",
    "plt.figure('1')\n",
    "plt.hist(y_pred0, label='s=0', density=True, stacked=True, bins=20)\n",
    "plt.hist(y_pred1, label='s=1', alpha=0.3, density=True, stacked=True, bins=20)\n",
    "plt.title('Performance on unlabeled (in-sample) data with fairness adjustment')\n",
    "plt.legend()\n",
    "\n"
   ]
  },
  {
   "cell_type": "code",
   "execution_count": 813,
   "metadata": {},
   "outputs": [
    {
     "data": {
      "text/plain": [
       "<matplotlib.legend.Legend at 0x7f81905f0438>"
      ]
     },
     "execution_count": 813,
     "metadata": {},
     "output_type": "execute_result"
    },
    {
     "data": {
      "image/png": "[encoded data removed]",
      "text/plain": [
       "<Figure size 432x288 with 1 Axes>"
      ]
     },
     "metadata": {},
     "output_type": "display_data"
    }
   ],
   "source": [
    "y_pred = fair_ls.predict(X_test)\n",
    "y_pred0 = y_pred[X_test[:, -1] == -1]\n",
    "y_pred1 = y_pred[X_test[:, -1] == 1]\n",
    "\n",
    "plt.figure('2')\n",
    "plt.hist(y_pred0, label='s=0', density=True, stacked=True, bins=20)\n",
    "plt.hist(y_pred1, label='s=1', alpha=0.3, density=True, stacked=True, bins=20)\n",
    "plt.title('Performance on unsees data performance with fairness adjustment')\n",
    "plt.legend()"
   ]
  },
  {
   "cell_type": "code",
   "execution_count": 814,
   "metadata": {},
   "outputs": [
    {
     "data": {
      "text/plain": [
       "<matplotlib.legend.Legend at 0x7f8190949400>"
      ]
     },
     "execution_count": 814,
     "metadata": {},
     "output_type": "execute_result"
    },
    {
     "data": {
      "image/png": "[encoded data removed]",
      "text/plain": [
       "<Figure size 432x288 with 1 Axes>"
      ]
     },
     "metadata": {},
     "output_type": "display_data"
    }
   ],
   "source": [
    "y_pred = ls.predict(X_unlab)\n",
    "y_pred0 = y_pred[X_unlab[:, -1] == -1]\n",
    "y_pred1 = y_pred[X_unlab[:, -1] == 1]\n",
    "\n",
    "plt.figure('3')\n",
    "plt.hist(y_pred0, label='s=0', density=True, stacked=True, bins=20)\n",
    "plt.hist(y_pred1, label='s=1', alpha=0.3, density=True, stacked=True, bins=20)\n",
    "plt.title('Performance on unlabeled (out-of-sample) data withOut fairness adjustment')\n",
    "plt.legend()\n"
   ]
  },
  {
   "cell_type": "code",
   "execution_count": 815,
   "metadata": {},
   "outputs": [
    {
     "data": {
      "text/plain": [
       "<matplotlib.legend.Legend at 0x7f8190369c50>"
      ]
     },
     "execution_count": 815,
     "metadata": {},
     "output_type": "execute_result"
    },
    {
     "data": {
      "image/png": "[encoded data removed]",
      "text/plain": [
       "<Figure size 432x288 with 1 Axes>"
      ]
     },
     "metadata": {},
     "output_type": "display_data"
    }
   ],
   "source": [
    "y_pred = ls.predict(X_test)\n",
    "y_pred0 = y_pred[X_test[:, -1] == -1]\n",
    "y_pred1 = y_pred[X_test[:, -1] == 1]\n",
    "\n",
    "plt.figure('4')\n",
    "plt.hist(y_pred0, label='s=0', density=True, stacked=True, bins=20)\n",
    "plt.hist(y_pred1, label='s=1', alpha=0.3, density=True, stacked=True, bins=20)\n",
    "plt.title('Performance on test (out-of-sample) data withOut fairness adjustment')\n",
    "plt.legend()"
   ]
  },
  {
   "cell_type": "code",
   "execution_count": null,
   "metadata": {},
   "outputs": [],
   "source": []
  }
 ],
 "metadata": {
  "kernelspec": {
   "display_name": "Python 3",
   "language": "python",
   "name": "python3"
  },
  "language_info": {
   "codemirror_mode": {
    "name": "ipython",
    "version": 3
   },
   "file_extension": ".py",
   "mimetype": "text/x-python",
   "name": "python",
   "nbconvert_exporter": "python",
   "pygments_lexer": "ipython3",
   "version": "3.6.7"
  }
 },
 "nbformat": 4,
 "nbformat_minor": 2
}
